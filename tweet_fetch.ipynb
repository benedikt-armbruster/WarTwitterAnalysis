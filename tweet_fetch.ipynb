{
 "cells": [
  {
   "cell_type": "code",
   "execution_count": 53,
   "metadata": {},
   "outputs": [],
   "source": [
    "import configparser\n",
    "import tweepy\n",
    "\n",
    "# read config\n",
    "config = configparser.ConfigParser()\n",
    "config.read('config.ini')\n",
    "\n",
    "api_key = config['twitter']['api_key']\n",
    "api_key_secret = config['twitter']['api_key_secret']\n",
    "\n",
    "access_token = config['twitter']['access_token']\n",
    "access_token_secret = config['twitter']['access_token_secret']\n",
    "\n",
    "# authenticate\n",
    "auth = tweepy.OAuthHandler(api_key, api_key_secret)\n",
    "auth.set_access_token(access_token, access_token_secret)\n",
    "\n",
    "api = tweepy.API(auth,wait_on_rate_limit=True)"
   ]
  },
  {
   "cell_type": "code",
   "execution_count": 54,
   "metadata": {},
   "outputs": [],
   "source": [
    "hashtags = ['#ukrainewar', '#war', '#army', '#military', '#kiev', '#ua', '#specialforces', '#donbass', '#donbasswar', '#airsoft', '#nomockal', '#warukraine', '#tactics', '#azovsea', '#militarystile', '#azov', '#russia', '#donetsk', '#soldiers', '#ukrainenews', '#odessa', '#ukrainianarmy', '#lviv', '#victory', '#nato', '#kyiv', '#militaryukraine', '#news']\n",
    "#hashtags = ['#ukrainewar', '#war', '#army', '#military', '#kiev', '#ua', '#specialforces', '#donbass', '#donbasswar', '#nomockal', '#warukraine', '#azovsea', '#azov', '#russia', '#donetsk', '#soldiers', '#ukrainenews', '#odessa', '#ukrainianarmy', '#lviv', '#victory', '#nato', '#kyiv', '#militaryukraine']\n",
    "num_tweets = 20000\n",
    "date_since = '2022-02-22'\n",
    "date_until = '2022-04-20'\n",
    "query = ' OR '.join(hashtags)\n",
    "query = query + ' -filter:retweets'\n",
    "\n",
    "tweets = tweepy.Cursor(api.search_tweets,\n",
    "                        q=query,\n",
    "                        tweet_mode='extended').items(num_tweets)"
   ]
  },
  {
   "cell_type": "code",
   "execution_count": 55,
   "metadata": {},
   "outputs": [
    {
     "name": "stderr",
     "output_type": "stream",
     "text": [
      "Rate limit reached. Sleeping for: 815\n",
      "Rate limit reached. Sleeping for: 812\n",
      "Rate limit reached. Sleeping for: 817\n",
      "Rate limit reached. Sleeping for: 818\n",
      "Rate limit reached. Sleeping for: 817\n",
      "Rate limit reached. Sleeping for: 821\n",
      "Rate limit reached. Sleeping for: 820\n"
     ]
    }
   ],
   "source": [
    "list_tweets = [tweet for tweet in tweets]"
   ]
  },
  {
   "cell_type": "code",
   "execution_count": 61,
   "metadata": {},
   "outputs": [],
   "source": [
    "import pandas as pd\n",
    "\n",
    "db = pd.DataFrame(columns=['id',\n",
    "                            'user_id',\n",
    "                            'username',\n",
    "                            'location',\n",
    "                            'geoid',\n",
    "                            'text',\n",
    "                            'language',\n",
    "                            'date',\n",
    "                            'hashtags',\n",
    "                            'retweet_count',\n",
    "                            'replies'])\n",
    "\n",
    "for tweet in list_tweets:\n",
    "    id = tweet.id\n",
    "    user_id = tweet.user.id\n",
    "    username = tweet.user.screen_name\n",
    "    location = tweet.user.location\n",
    "    geoid = tweet.geo\n",
    "    language = tweet.lang\n",
    "    created_at = tweet.created_at\n",
    "    hashtags_tweet = tweet.entities['hashtags']\n",
    "    retweet_count = tweet.retweet_count\n",
    "    replies = tweet.in_reply_to_status_id\n",
    "    \n",
    "    text = tweet.full_text\n",
    "    hashtext = list()\n",
    "    for j in range(0, len(hashtags_tweet)):\n",
    "        hashtext.append(hashtags_tweet[j]['text'])\n",
    "        ith_tweet = [id, user_id, username, location, geoid,\n",
    "                        text, language, created_at, hashtext, retweet_count, replies]\n",
    "        db.loc[len(db)] = ith_tweet\n",
    "\n",
    "filename = 'tweets_2022-05-08.csv'\n",
    "\n",
    "db = db.drop_duplicates(subset=['id'])\n",
    "\n",
    "db.to_csv(filename)"
   ]
  },
  {
   "cell_type": "code",
   "execution_count": null,
   "metadata": {},
   "outputs": [],
   "source": []
  }
 ],
 "metadata": {
  "interpreter": {
   "hash": "519a851d2c5765c65f8add8172c3f59e503d6c949ca433a5a975838cfe0d7213"
  },
  "kernelspec": {
   "display_name": "Python 3.8.2 32-bit",
   "language": "python",
   "name": "python3"
  },
  "language_info": {
   "codemirror_mode": {
    "name": "ipython",
    "version": 3
   },
   "file_extension": ".py",
   "mimetype": "text/x-python",
   "name": "python",
   "nbconvert_exporter": "python",
   "pygments_lexer": "ipython3",
   "version": "3.8.2"
  },
  "orig_nbformat": 4
 },
 "nbformat": 4,
 "nbformat_minor": 2
}
